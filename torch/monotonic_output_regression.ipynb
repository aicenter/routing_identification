{
 "cells": [
  {
   "cell_type": "markdown",
   "metadata": {},
   "source": [
    "# Monotonic Output Regression\n",
    "\n",
    "This notebook accompanies the paper [Learning Convex Optimization Models](https://web.stanford.edu/~boyd/papers/learning_copt_models.html)."
   ]
  },
  {
   "cell_type": "code",
   "execution_count": 4,
   "metadata": {},
   "outputs": [
    {
     "data": {
      "text/plain": [
       "('1.1.0a4', '0.1.3')"
      ]
     },
     "execution_count": 4,
     "metadata": {},
     "output_type": "execute_result"
    }
   ],
   "source": [
    "import torch\n",
    "import numpy as np\n",
    "import cvxpy as cp\n",
    "from cvxpylayers.torch import CvxpyLayer\n",
    "import cvxpylayers\n",
    "from algorithms import fit\n",
    "import matplotlib.pyplot as plt\n",
    "from latexify import latexify\n",
    "cp.__version__, cvxpylayers.__version__"
   ]
  },
  {
   "cell_type": "code",
   "execution_count": 5,
   "metadata": {},
   "outputs": [],
   "source": [
    "# Define convex optimization model\n",
    "n = 20\n",
    "m = 10\n",
    "\n",
    "y = cp.Variable(m)\n",
    "yhat = cp.Parameter(m)\n",
    "\n",
    "objective = cp.norm2(y-yhat)\n",
    "constraints = [cp.diff(y) >= 0]\n",
    "prob = cp.Problem(cp.Minimize(objective), constraints)\n",
    "layer = CvxpyLayer(prob, [yhat], [y])"
   ]
  },
  {
   "cell_type": "code",
   "execution_count": 6,
   "metadata": {},
   "outputs": [],
   "source": [
    "# Get data\n",
    "def get_data(N, n, m, theta):\n",
    "    X = torch.randn(N, n)\n",
    "    Y = layer(X @ theta + torch.randn(N, m))[0]\n",
    "    return X, Y\n",
    "\n",
    "torch.manual_seed(0)\n",
    "theta_true = torch.randn(n, m)\n",
    "X, Y = get_data(100, n, m, theta_true)\n",
    "Xval, Yval = get_data(50, n, m, theta_true)"
   ]
  },
  {
   "cell_type": "code",
   "execution_count": 7,
   "metadata": {},
   "outputs": [],
   "source": [
    "mse_loss = torch.nn.MSELoss()\n",
    "theta_lstsq = torch.solve(X.t() @ Y, X.t() @ X).solution\n",
    "lstsq_val_loss = mse_loss(Xval @ theta_lstsq, Yval).item()\n",
    "bayes_val_loss = mse_loss(layer(Xval @ theta_true)[0], Yval).item()"
   ]
  },
  {
   "cell_type": "code",
   "execution_count": 8,
   "metadata": {},
   "outputs": [],
   "source": [
    "theta = torch.zeros_like(theta_lstsq)\n",
    "theta.requires_grad_(True)\n",
    "def loss(X, Y, theta):\n",
    "    return mse_loss(layer(X @ theta)[0], Y)"
   ]
  },
  {
   "cell_type": "code",
   "execution_count": 10,
   "metadata": {
    "scrolled": true
   },
   "outputs": [
    {
     "name": "stdout",
     "output_type": "stream",
     "text": [
      "001 | 6.37966\n",
      "batch 001 / 007 | 6.54562\n",
      "batch 002 / 007 | 7.21317\n",
      "batch 003 / 007 | 6.77889\n",
      "batch 004 / 007 | 6.75470\n",
      "batch 005 / 007 | 5.97233\n",
      "batch 006 / 007 | 5.50823\n",
      "batch 007 / 007 | 5.41007\n",
      "002 | 3.67326\n",
      "batch 001 / 007 | 2.82474\n",
      "batch 002 / 007 | 3.14247\n",
      "batch 003 / 007 | 2.68744\n",
      "batch 004 / 007 | 2.79289\n",
      "batch 005 / 007 | 2.84320\n",
      "batch 006 / 007 | 2.73215\n",
      "batch 007 / 007 | 2.60307\n",
      "003 | 2.77888\n",
      "batch 001 / 007 | 1.78423\n",
      "batch 002 / 007 | 1.69969\n",
      "batch 003 / 007 | 1.88519\n",
      "batch 004 / 007 | 1.79895\n",
      "batch 005 / 007 | 1.76285\n",
      "batch 006 / 007 | 1.71602\n",
      "batch 007 / 007 | 1.83642\n",
      "004 | 2.20847\n",
      "batch 001 / 007 | 1.27333\n",
      "batch 002 / 007 | 1.44328\n",
      "batch 003 / 007 | 1.33678\n",
      "batch 004 / 007 | 1.29789\n",
      "batch 005 / 007 | 1.30782\n",
      "batch 006 / 007 | 1.31228\n",
      "batch 007 / 007 | 1.23183\n",
      "005 | 1.79820\n",
      "batch 001 / 007 | 0.71949\n",
      "batch 002 / 007 | 0.82146\n",
      "batch 003 / 007 | 0.96098\n",
      "batch 004 / 007 | 0.94970\n",
      "batch 005 / 007 | 0.92515\n",
      "batch 006 / 007 | 0.97964\n",
      "batch 007 / 007 | 1.09865\n",
      "006 | 1.43201\n",
      "batch 001 / 007 | 0.36612\n",
      "batch 002 / 007 | 0.49633\n",
      "batch 003 / 007 | 0.52536\n",
      "batch 004 / 007 | 0.68597\n",
      "batch 005 / 007 | 0.74700\n",
      "batch 006 / 007 | 0.76915\n",
      "batch 007 / 007 | 0.83172\n",
      "007 | 1.16918\n",
      "batch 001 / 007 | 0.37163\n",
      "batch 002 / 007 | 0.53301\n",
      "batch 003 / 007 | 0.58942\n",
      "batch 004 / 007 | 0.63419\n",
      "batch 005 / 007 | 0.65475\n",
      "batch 006 / 007 | 0.66428\n",
      "batch 007 / 007 | 0.65300\n",
      "008 | 1.00531\n",
      "batch 001 / 007 | 0.50027\n",
      "batch 002 / 007 | 0.50870\n",
      "batch 003 / 007 | 0.55201\n",
      "batch 004 / 007 | 0.51065\n",
      "batch 005 / 007 | 0.54521\n",
      "batch 006 / 007 | 0.54851\n",
      "batch 007 / 007 | 0.52301\n",
      "009 | 0.96045\n",
      "batch 001 / 007 | 0.41113\n",
      "batch 002 / 007 | 0.34671\n",
      "batch 003 / 007 | 0.44695\n",
      "batch 004 / 007 | 0.38751\n",
      "batch 005 / 007 | 0.42404\n",
      "batch 006 / 007 | 0.47286\n",
      "batch 007 / 007 | 0.44319\n",
      "010 | 0.89814\n",
      "batch 001 / 007 | 0.49001\n",
      "batch 002 / 007 | 0.56290\n",
      "batch 003 / 007 | 0.50579\n",
      "batch 004 / 007 | 0.46224\n",
      "batch 005 / 007 | 0.42447\n",
      "batch 006 / 007 | 0.40952\n",
      "batch 007 / 007 | 0.49495\n",
      "011 | 0.82211\n",
      "batch 001 / 007 | 0.39616\n",
      "batch 002 / 007 | 0.35220\n",
      "batch 003 / 007 | 0.35311\n",
      "batch 004 / 007 | 0.35772\n",
      "batch 005 / 007 | 0.37887\n",
      "batch 006 / 007 | 0.38523\n",
      "batch 007 / 007 | 0.44267\n",
      "012 | 0.76901\n",
      "batch 001 / 007 | 0.20815\n",
      "batch 002 / 007 | 0.27799\n",
      "batch 003 / 007 | 0.30103\n",
      "batch 004 / 007 | 0.35757\n",
      "batch 005 / 007 | 0.38544\n",
      "batch 006 / 007 | 0.40748\n",
      "batch 007 / 007 | 0.39222\n",
      "013 | 0.71757\n",
      "batch 001 / 007 | 0.35951\n",
      "batch 002 / 007 | 0.40466\n",
      "batch 003 / 007 | 0.39934\n",
      "batch 004 / 007 | 0.39784\n",
      "batch 005 / 007 | 0.38302\n",
      "batch 006 / 007 | 0.36658\n",
      "batch 007 / 007 | 0.41987\n",
      "014 | 0.66855\n",
      "batch 001 / 007 | 0.58453\n",
      "batch 002 / 007 | 0.40711\n",
      "batch 003 / 007 | 0.40183\n",
      "batch 004 / 007 | 0.36751\n",
      "batch 005 / 007 | 0.36644\n",
      "batch 006 / 007 | 0.35535\n",
      "batch 007 / 007 | 0.34039\n",
      "015 | 0.65329\n",
      "batch 001 / 007 | 0.33166\n",
      "batch 002 / 007 | 0.32293\n",
      "batch 003 / 007 | 0.31314\n",
      "batch 004 / 007 | 0.31500\n",
      "batch 005 / 007 | 0.33010\n",
      "batch 006 / 007 | 0.34405\n",
      "batch 007 / 007 | 0.32332\n",
      "016 | 0.60960\n",
      "batch 001 / 007 | 0.28471\n",
      "batch 002 / 007 | 0.28110\n",
      "batch 003 / 007 | 0.27468\n",
      "batch 004 / 007 | 0.30219\n",
      "batch 005 / 007 | 0.31693\n",
      "batch 006 / 007 | 0.31605\n",
      "batch 007 / 007 | 0.35820\n",
      "017 | 0.62811\n",
      "batch 001 / 007 | 0.28251\n",
      "batch 002 / 007 | 0.24609\n",
      "batch 003 / 007 | 0.26830\n",
      "batch 004 / 007 | 0.26450\n",
      "batch 005 / 007 | 0.32891\n",
      "batch 006 / 007 | 0.33223\n",
      "batch 007 / 007 | 0.33829\n",
      "018 | 0.65671\n",
      "batch 001 / 007 | 0.22490\n",
      "batch 002 / 007 | 0.23356\n",
      "batch 003 / 007 | 0.25540\n",
      "batch 004 / 007 | 0.29610\n",
      "batch 005 / 007 | 0.31102\n",
      "batch 006 / 007 | 0.32254\n",
      "batch 007 / 007 | 0.32085\n",
      "019 | 0.60048\n",
      "batch 001 / 007 | 0.31201\n",
      "batch 002 / 007 | 0.28156\n",
      "batch 003 / 007 | 0.29576\n",
      "batch 004 / 007 | 0.34484\n",
      "batch 005 / 007 | 0.33622\n",
      "batch 006 / 007 | 0.32448\n",
      "batch 007 / 007 | 0.33567\n",
      "020 | 0.56205\n",
      "batch 001 / 007 | 0.27252\n",
      "batch 002 / 007 | 0.33209\n",
      "batch 003 / 007 | 0.36123\n",
      "batch 004 / 007 | 0.34777\n",
      "batch 005 / 007 | 0.33455\n",
      "batch 006 / 007 | 0.33327\n",
      "batch 007 / 007 | 0.33440\n"
     ]
    }
   ],
   "source": [
    "val_losses, train_losses = fit(lambda X, Y: loss(X, Y, theta), [theta], X, Y, Xval, Yval,\n",
    "                               opt=torch.optim.Adam, opt_kwargs={\"lr\": 1e-1},\n",
    "                               batch_size=16, epochs=20, verbose=True)"
   ]
  },
  {
   "cell_type": "code",
   "execution_count": 30,
   "metadata": {},
   "outputs": [
    {
     "data": {
      "image/png": "[encoded data removed]",
      "text/plain": [
       "<Figure size 394.92x129.6 with 2 Axes>"
      ]
     },
     "metadata": {
      "needs_background": "light"
     },
     "output_type": "display_data"
    }
   ],
   "source": [
    "latexify(5.485, 1.8)\n",
    "fig, ax = plt.subplots(1, 2)\n",
    "\n",
    "ax[0].axhline(lstsq_val_loss, linestyle='-.', c='black', label='LR')\n",
    "ax[0].plot(np.arange(1, 21), val_losses, c='k', label='COM')\n",
    "ax[0].axhline(bayes_val_loss, linestyle='--', c='black', label='true')\n",
    "ax[0].set_xlabel(\"iteration\")\n",
    "ax[0].set_ylabel(\"validation loss\")\n",
    "ax[0].set_ylim(0)\n",
    "ax[0].legend()\n",
    "\n",
    "ax[1].plot(Xval[13] @ theta_lstsq, '-.', c='k', label='LR')\n",
    "ax[1].plot(layer(Xval[13] @ theta)[0].detach().numpy(), c='k', label='COM')\n",
    "ax[1].plot(Yval[13].numpy(), '--', c='k', label='true')\n",
    "ax[1].legend()\n",
    "ax[1].set_xlabel('$i$')\n",
    "ax[1].set_ylabel(\"$\\phi(x;\\\\theta)$\")\n",
    "\n",
    "plt.tight_layout()\n",
    "plt.savefig(\"figures/mono_regression.pdf\")\n",
    "plt.show()"
   ]
  },
  {
   "cell_type": "code",
   "execution_count": 33,
   "metadata": {},
   "outputs": [
    {
     "data": {
      "text/plain": [
       "3.3753725951890483"
      ]
     },
     "execution_count": 33,
     "metadata": {},
     "output_type": "execute_result"
    }
   ],
   "source": [
    "lstsq_val_loss"
   ]
  },
  {
   "cell_type": "code",
   "execution_count": 23,
   "metadata": {},
   "outputs": [
    {
     "name": "stdout",
     "output_type": "stream",
     "text": [
      "1.5115945280018195\n"
     ]
    }
   ],
   "source": [
    "print(loss(X, Y, theta_lstsq).item())"
   ]
  },
  {
   "cell_type": "code",
   "execution_count": 31,
   "metadata": {},
   "outputs": [
    {
     "data": {
      "text/plain": [
       "0.5620522413492108"
      ]
     },
     "execution_count": 31,
     "metadata": {},
     "output_type": "execute_result"
    }
   ],
   "source": [
    "val_losses[-1]"
   ]
  },
  {
   "cell_type": "code",
   "execution_count": 32,
   "metadata": {},
   "outputs": [
    {
     "data": {
      "text/plain": [
       "0.2637994455876921"
      ]
     },
     "execution_count": 32,
     "metadata": {},
     "output_type": "execute_result"
    }
   ],
   "source": [
    "bayes_val_loss"
   ]
  },
  {
   "cell_type": "code",
   "execution_count": null,
   "metadata": {},
   "outputs": [],
   "source": []
  }
 ],
 "metadata": {
  "@webio": {
   "lastCommId": null,
   "lastKernelId": null
  },
  "kernelspec": {
   "display_name": "Python 3",
   "language": "python",
   "name": "python3"
  },
  "language_info": {
   "codemirror_mode": {
    "name": "ipython",
    "version": 3
   },
   "file_extension": ".py",
   "mimetype": "text/x-python",
   "name": "python",
   "nbconvert_exporter": "python",
   "pygments_lexer": "ipython3",
   "version": "3.8.2"
  }
 },
 "nbformat": 4,
 "nbformat_minor": 2
}
